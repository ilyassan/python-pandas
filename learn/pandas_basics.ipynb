{
 "cells": [
  {
   "cell_type": "markdown",
   "id": "4a9fc4c5-353d-47af-bdcb-3c7d2062a8d2",
   "metadata": {},
   "source": [
    "# <div style=\"text-align: center;\">The Basics of PANDAS</div>\n",
    "## <div style=\"text-align: center;\">My GitHub: [https://github.com/ilyassan](https://github.com/ilyassan)</div>"
   ]
  },
  {
   "cell_type": "markdown",
   "id": "2dc8eb46-beef-46cb-b324-d3be80239426",
   "metadata": {},
   "source": [
    "# Get Started With PANDAS"
   ]
  },
  {
   "cell_type": "code",
   "execution_count": null,
   "id": "51fd578a-e121-4fb1-8470-f44d7e931c4c",
   "metadata": {},
   "outputs": [],
   "source": [
    "import pandas as pd\n",
    "\n",
    "# For CSV files\n",
    "df = pd.read_csv(\"pokemon_data.csv\")\n",
    "\n",
    "# For TXT files using (separate operator)\n",
    "df = pd.read_csv(\"pokemon_data.txt\", sep='\\t')\n",
    "\n",
    "# For Excel files\n",
    "df = pd.read_excel(\"pokemon_data.xlsx\")\n",
    "\n",
    "# All supported files in pandas:\n",
    "# CSV, XLSX, XLS, TXT, JSON, HTML, HDF5, Feather, Parquet, ORC, Stata, SAS, SPSS, Pickle, SQL, Clipboard, XML."
   ]
  },
  {
   "cell_type": "markdown",
   "id": "33fd063d-809c-4efa-97c6-ce623946b507",
   "metadata": {},
   "source": [
    "## Describing Data"
   ]
  },
  {
   "cell_type": "code",
   "execution_count": null,
   "id": "adf2110c-a525-400c-a9ab-042b2ca01c26",
   "metadata": {
    "scrolled": true
   },
   "outputs": [],
   "source": [
    "# Print table\n",
    "df\n",
    "\n",
    "# Global view of the table (Count, Mean, Standard Deviation, Min value, Max value, Percentile)\n",
    "df.describe()\n",
    "\n",
    "# Get array of table columns\n",
    "df.columns\n",
    "\n",
    "# Get rows and columns count ( rows, columns)\n",
    "df.shape\n"
   ]
  },
  {
   "cell_type": "markdown",
   "id": "58387d9b-73ba-4e92-b666-addc4bb355b0",
   "metadata": {},
   "source": [
    "## Getting Data"
   ]
  },
  {
   "cell_type": "code",
   "execution_count": null,
   "id": "d2d7437c-1955-4caf-bfde-a37c55201b64",
   "metadata": {
    "scrolled": true
   },
   "outputs": [],
   "source": [
    "# Get the first (n) rows\n",
    "df.head(5)\n",
    "\n",
    "# Get the last (n) rows\n",
    "df.tail(5)\n",
    "\n",
    "# Get a specefiques columns in the table\n",
    "df[[\"Name\", \"HP\"]]\n",
    "\n",
    "# Get row by index \"start from 0\" (  iloc ==> integer location )\n",
    "df.iloc[799]\n",
    "\n",
    "# Get multiple rows by iloc range [ from:to ]\n",
    "df.iloc[1:2]\n",
    "\n",
    "# Get specefique column in a row \"start from 0\" [ row index, column index ]\n",
    "df.iloc[1, 2]\n",
    "\n",
    "# Get each row\n",
    "for i, row in df.iterrows():\n",
    "    print(i, row[\"Name\"])\n",
    "\n",
    "# Get rows with specefique condition df.loc[condition]\n",
    "df.loc[df[\"Type 1\"] == \"Rock\"]\n",
    "\n",
    "# Get specefique columns of rows with specefique column string df.loc[condition, [columns] ]\n",
    "df.loc[df[\"Type 1\"] == \"Rock\", [\"Name\", \"Type 1\"]]\n"
   ]
  },
  {
   "cell_type": "markdown",
   "id": "736d37c1-832e-46ea-86eb-3f1e0d6fc19f",
   "metadata": {},
   "source": [
    "## Sorting Data"
   ]
  },
  {
   "cell_type": "code",
   "execution_count": null,
   "id": "31c0c793-a5c1-489e-ad65-f1e4d02e8dda",
   "metadata": {
    "scrolled": true
   },
   "outputs": [],
   "source": [
    "# Sort table by column name  sort_values( column, ascending=(True or False) ) default is ascending order\n",
    "df.sort_values(\"Type 1\", ascending=False)\n",
    "\n",
    "# Sort table by multiple columns sort_values( [column1, column2, ...], ascending=[column1 order, column2 order, ...] )\n",
    "# 1 => True , 0 => False\n",
    "df.sort_values([\"Type 1\", \"HP\"], ascending=[1, 0] )\n",
    "# OR\n",
    "df.sort_values([\"Type 1\", \"HP\"], ascending=[True, False])\n"
   ]
  },
  {
   "cell_type": "markdown",
   "id": "901a6d3a-07d4-4f28-85a2-da828aeec5a0",
   "metadata": {},
   "source": [
    "# Group By"
   ]
  },
  {
   "cell_type": "code",
   "execution_count": null,
   "id": "1fed657a-3471-4e20-a409-56473f971e43",
   "metadata": {
    "scrolled": true
   },
   "outputs": [],
   "source": [
    "### Examples\n",
    "\n",
    "# Group by type column and sort by the count of each type\n",
    "df.groupby('Type 1').size().sort_values(ascending=False)\n",
    "\n",
    "# Group by multiple columns\n",
    "df.groupby(['Type 1', 'Type 2']).size().sort_values(ascending=False)\n",
    "\n",
    "# Group by type column and sort by the mean attack column\n",
    "df.groupby('Type 1')[['Attack']].mean().sort_values(\"Attack\", ascending=False)\n",
    "\n",
    "# Common Aggregation Functions With groupby() :\n",
    "# mean(), median(), std(), sum(), count(), size(), min(), max()"
   ]
  },
  {
   "cell_type": "markdown",
   "id": "4da6712b-08a1-4d73-a775-fb6238965004",
   "metadata": {},
   "source": [
    "## Change Data"
   ]
  },
  {
   "cell_type": "code",
   "execution_count": null,
   "id": "921f3851-41f1-4f7d-b781-b6ba09bb6c36",
   "metadata": {
    "scrolled": true
   },
   "outputs": [],
   "source": [
    "# Add new column df['Column Name']\n",
    "df['Total'] = \"Anything\"\n",
    "# OR\n",
    "# insert( index where to  insert, 'Column Name', Value or [ Values ] )\n",
    "df.insert(4, \"Total\", [\"Anything\"] * len(df) )\n",
    "\n",
    "# Remove a column\n",
    "df = df.drop(columns=['Total'])\n",
    "# OR\n",
    "df.drop(columns=['Total'], inplace=True)\n",
    "\n",
    "# Sum columns to the new column\n",
    "df['Total'] = df['HP'] + df['Attack'] + df['Defense'] + df['Sp. Atk'] + df['Sp. Def'] + df['Speed']\n",
    "# OR\n",
    "df['Total'] = df.iloc[:, 4:10].sum(axis=1)\n",
    "# OR\n",
    "df.insert(10, \"Total\", df.iloc[:, 4:10].sum(axis=1) )\n",
    "\n",
    "# Change column position\n",
    "df = df[[ \"#\", \"Name\", \"Type 1\", \"Type 2\", \"HP\", \"Attack\", \"Defense\", \"Sp. Atk\", \"Sp. Def\", \"Speed\", \"Total\", \"Generation\", \"Legendary\" ]]\n",
    "# OR\n",
    "cols = list(df.columns)\n",
    "df = df[ cols[0:10] + [cols[-1]] + cols[10:12] ]\n",
    "\n",
    "\n",
    "df.head()"
   ]
  },
  {
   "cell_type": "markdown",
   "id": "92b21ae3-58a9-4c30-bf06-96115b1a1d46",
   "metadata": {},
   "source": [
    "## Filtering Data"
   ]
  },
  {
   "cell_type": "code",
   "execution_count": null,
   "id": "b5531a5d-0916-45f8-ba99-8692716b4f82",
   "metadata": {
    "scrolled": true
   },
   "outputs": [],
   "source": [
    "# Filter rows with multiple conditions df.loc[condition & condition2]\n",
    "df.loc[ ( (df[\"Type 1\"] == \"Grass\") | (df[\"Type 2\"] == \"Poison\") ) & (df[\"HP\"] >= 100) ]\n",
    "# and => &\n",
    "# or  => |\n",
    "\n",
    "### Filter rows that contains a string\n",
    "\n",
    "# rows that contains \"Mega\" in the name\n",
    "df.loc[ df[\"Name\"].str.contains(\"Mega\") ]\n",
    "# rows that not contains \"Mega\" in the name\n",
    "df.loc[ ~df[\"Name\"].str.contains(\"Mega\") ]\n",
    "\n",
    "# Filter using regex pattern\n",
    "import re\n",
    "\n",
    "df.loc[ df[\"Name\"].str.contains(\"^pi[a-z]*\", flags=re.I, regex=True) ]\n"
   ]
  },
  {
   "cell_type": "markdown",
   "id": "cbaabba3-17fd-4627-914b-9277e1a7ae01",
   "metadata": {},
   "source": [
    "## Conditional Changes"
   ]
  },
  {
   "cell_type": "code",
   "execution_count": null,
   "id": "4b17b0d5-797e-4e13-a625-1ea2c6c51265",
   "metadata": {
    "scrolled": true
   },
   "outputs": [],
   "source": [
    "# If column == x then column = newValue\n",
    "df.loc[ df[\"Type 1\"] == \"Normal\", \"Type 1\" ] = \"Regular\"\n",
    "\n",
    "df.loc[ df[\"Type 1\"] == \"Fire\", [\"Generation\", \"Legendary\"] ] = [ 2, True]\n",
    "\n",
    "df"
   ]
  },
  {
   "cell_type": "markdown",
   "id": "a71aca0f-8985-4d2c-85ab-3d502af2407e",
   "metadata": {},
   "source": [
    "## Dealing With Big Data"
   ]
  },
  {
   "cell_type": "code",
   "execution_count": 189,
   "id": "70c1694b-3f29-4450-84b2-6d64f9de18ed",
   "metadata": {},
   "outputs": [
    {
     "name": "stdout",
     "output_type": "stream",
     "text": [
      "Total sum: 55407\n"
     ]
    }
   ],
   "source": [
    "# When dealing with very large data in pandas its essential to use chunking to avoid memory leaks and some problems.\n",
    "# Example of chunking:\n",
    "\n",
    "total_sum = 0\n",
    "\n",
    "for chunk in pd.read_csv('pokemon_data.csv', chunksize=100):\n",
    "    # Process each chunk independently\n",
    "    total_sum += chunk['HP'].sum()\n",
    "\n",
    "print(\"Total sum:\", total_sum)\n"
   ]
  },
  {
   "cell_type": "markdown",
   "id": "bd505682-f2f9-4c90-98dd-d4c1cf995318",
   "metadata": {},
   "source": [
    "## Saving Data"
   ]
  },
  {
   "cell_type": "code",
   "execution_count": null,
   "id": "21a8b351-f2d4-44a0-aadc-e5ae939ea9ba",
   "metadata": {},
   "outputs": [],
   "source": [
    "# Save in CSV format\n",
    "df.to_csv(\"modified.csv\", index=False)\n",
    "\n",
    "# Save in TXT format\n",
    "df.to_csv(\"modified.txt\", sep='\\t', index=False)\n",
    "\n",
    "# Save in EXCEL format\n",
    "df.to_excel(\"modified.xlsx\", index=False)\n",
    "\n",
    "# index=False  --> For delete the first column of index added by pandas"
   ]
  },
  {
   "cell_type": "markdown",
   "id": "86739aa8-2933-488c-b939-df15d2571b31",
   "metadata": {},
   "source": [
    "# <p style=\"text-align: center;\" >I Hope You Benefit From This.</p>"
   ]
  }
 ],
 "metadata": {
  "kernelspec": {
   "display_name": "Python 3 (ipykernel)",
   "language": "python",
   "name": "python3"
  },
  "language_info": {
   "codemirror_mode": {
    "name": "ipython",
    "version": 3
   },
   "file_extension": ".py",
   "mimetype": "text/x-python",
   "name": "python",
   "nbconvert_exporter": "python",
   "pygments_lexer": "ipython3",
   "version": "3.12.5"
  }
 },
 "nbformat": 4,
 "nbformat_minor": 5
}
