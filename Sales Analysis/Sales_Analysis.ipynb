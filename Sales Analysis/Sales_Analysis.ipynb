{
 "cells": [
  {
   "cell_type": "markdown",
   "id": "196b47a5-b78d-499a-92f4-73f244393f4e",
   "metadata": {},
   "source": [
    "# <div style='text-align: center'>Sales Analysis</div>"
   ]
  },
  {
   "cell_type": "markdown",
   "id": "035ea421-e451-455a-ad78-6817db30d551",
   "metadata": {},
   "source": [
    "## Import libraries"
   ]
  },
  {
   "cell_type": "code",
   "execution_count": null,
   "id": "6fe37a70-fc52-4700-afc8-8ca810ded28b",
   "metadata": {},
   "outputs": [],
   "source": [
    "import pandas as pd\n",
    "import matplotlib.pyplot as plt\n",
    "from os import listdir"
   ]
  },
  {
   "cell_type": "markdown",
   "id": "f7a6f39f-da95-45fb-9177-60420d3ece97",
   "metadata": {},
   "source": [
    "#### Merge sales of 12 months into a single CSV file"
   ]
  },
  {
   "cell_type": "code",
   "execution_count": null,
   "id": "5a66aa29-cd9c-49ea-9a6e-3a8b44417b6e",
   "metadata": {},
   "outputs": [],
   "source": [
    "dataFolderPath = './Sales Data/'\n",
    "dataFiles = [ f for f in listdir(dataFolderPath) if f.endswith('.csv') ]\n",
    "\n",
    "year_data = pd.DataFrame()\n",
    "\n",
    "for file in dataFiles:\n",
    "    month_df = pd.read_csv( dataFolderPath + file )\n",
    "    year_data = pd.concat([year_data, month_df])\n",
    "\n",
    "year_data.to_csv(\"full_data.csv\", index=False)"
   ]
  },
  {
   "cell_type": "markdown",
   "id": "01aab907-9185-49ec-9b79-844c03a59caf",
   "metadata": {},
   "source": [
    "#### Read the full year data"
   ]
  },
  {
   "cell_type": "code",
   "execution_count": null,
   "id": "d36357d5-1c75-410e-afa3-8f5759358d6d",
   "metadata": {},
   "outputs": [],
   "source": [
    "full_data = pd.read_csv(\"full_data.csv\")\n",
    "\n",
    "full_data.head()"
   ]
  },
  {
   "cell_type": "markdown",
   "id": "cacbd064-aa8c-4a91-861a-d8e57ca6d9e5",
   "metadata": {},
   "source": [
    "### Task 1: The Best Month Sales and Total Sales"
   ]
  },
  {
   "cell_type": "markdown",
   "id": "f053dde6-2883-41e9-88d3-32db565ed9d2",
   "metadata": {},
   "source": [
    "#### Step 1: Clean up data"
   ]
  },
  {
   "cell_type": "markdown",
   "id": "062add32-e62e-4c1d-8ec8-e914aee1d9ac",
   "metadata": {},
   "source": [
    "##### Drop rows with nan values"
   ]
  },
  {
   "cell_type": "code",
   "execution_count": null,
   "id": "0fce752a-bbfa-4c7a-9955-d70255b12b81",
   "metadata": {},
   "outputs": [],
   "source": [
    "full_data[full_data.isnull().any(axis=1)]\n",
    "\n",
    "full_data = full_data.dropna(how='all')"
   ]
  },
  {
   "cell_type": "markdown",
   "id": "f9317869-4e3f-4e64-8340-df9ad74a4543",
   "metadata": {},
   "source": [
    "##### Remove columns with not valid date"
   ]
  },
  {
   "cell_type": "code",
   "execution_count": null,
   "id": "03a67d97-dfae-433f-9f2c-6ecad8e00533",
   "metadata": {},
   "outputs": [],
   "source": [
    "full_data = full_data[full_data['Order Date'] != 'Order Date']"
   ]
  },
  {
   "cell_type": "markdown",
   "id": "891a4af5-70aa-43ef-8942-9ec7b22b12fe",
   "metadata": {},
   "source": [
    "#### Step 2: Convert price and quantity columns to integer"
   ]
  },
  {
   "cell_type": "code",
   "execution_count": null,
   "id": "9d787776-2866-4769-a3b1-23ba48132b8f",
   "metadata": {},
   "outputs": [],
   "source": [
    "full_data['Quantity Ordered'] = pd.to_numeric(full_data['Quantity Ordered'])\n",
    "full_data['Price Each'] = pd.to_numeric(full_data['Price Each'])"
   ]
  },
  {
   "cell_type": "markdown",
   "id": "f799399d-b6be-41ce-bebf-167f2e0938f1",
   "metadata": {},
   "source": [
    "#### Step 3: Add total price column"
   ]
  },
  {
   "cell_type": "code",
   "execution_count": null,
   "id": "597daa74-e01b-4d3c-b5b1-59d86a3c3ab5",
   "metadata": {},
   "outputs": [],
   "source": [
    "full_data['Total Price'] = full_data['Price Each'] * full_data['Quantity Ordered']"
   ]
  },
  {
   "cell_type": "markdown",
   "id": "9f136e68-b98a-4208-b79b-9dca69f27f2d",
   "metadata": {},
   "source": [
    "#### Step 4: Conver order date column to datetime object"
   ]
  },
  {
   "cell_type": "code",
   "execution_count": null,
   "id": "d6badafe-a878-47c1-a087-b147fe4753f7",
   "metadata": {},
   "outputs": [],
   "source": [
    "full_data['Order Date'] = pd.to_datetime(full_data['Order Date'], format='%m/%d/%y %H:%M')"
   ]
  },
  {
   "cell_type": "markdown",
   "id": "af678b54-0e33-42b8-88fa-6b10f88002fb",
   "metadata": {},
   "source": [
    "#### Step 5: Group by month"
   ]
  },
  {
   "cell_type": "code",
   "execution_count": null,
   "id": "4323dba1-e24c-45ad-9ecd-b0d09c31ae7f",
   "metadata": {},
   "outputs": [],
   "source": [
    "months_sales = full_data.groupby( full_data['Order Date'].dt.month )['Total Price'].sum().reset_index(name='Sales')        \n",
    "months_sales.rename(columns={'Order Date': 'Month'}, inplace=True)"
   ]
  },
  {
   "cell_type": "markdown",
   "id": "09781ac4-4e6a-491e-a320-c95042e77820",
   "metadata": {},
   "source": [
    "#### Step 6: Show results"
   ]
  },
  {
   "cell_type": "code",
   "execution_count": null,
   "id": "51bb0f84-ebcb-4442-8348-ba2a1d9b67f1",
   "metadata": {},
   "outputs": [],
   "source": [
    "import datetime\n",
    "\n",
    "months = list(range(1, 13))\n",
    "\n",
    "for i, val in enumerate(months):\n",
    "    month = datetime.date(1900, val , 1).strftime('%b')\n",
    "    months[i] = month\n",
    "\n",
    "plt.bar(months, months_sales['Sales'], width=0.7)\n",
    "plt.xticks(months)\n",
    "plt.title('Sales of each month')\n",
    "plt.xlabel('Months')\n",
    "plt.ylabel('Sales in DH')\n",
    "\n",
    "plt.gca().get_yaxis().set_major_formatter(plt.FuncFormatter(lambda x, _: f'{int(x):,}'))\n",
    "plt.show()"
   ]
  },
  {
   "cell_type": "markdown",
   "id": "aa5b7952-7309-4693-bc72-e3afba1a02ef",
   "metadata": {},
   "source": [
    "### Task 2: The City with the Highest Sales"
   ]
  },
  {
   "cell_type": "markdown",
   "id": "5bc4a13c-5be8-41a5-a166-bef57d633ca3",
   "metadata": {},
   "source": [
    "#### Step 1: Get cities name from the order address"
   ]
  },
  {
   "cell_type": "code",
   "execution_count": null,
   "id": "57c4acbf-ee0c-4928-b4a2-66587783feba",
   "metadata": {},
   "outputs": [],
   "source": [
    "cities = full_data['Purchase Address'].apply(lambda x: x.split(',')[1].lstrip())"
   ]
  },
  {
   "cell_type": "markdown",
   "id": "f4607252-d869-4ca5-b095-fab9ca952575",
   "metadata": {},
   "source": [
    "#### Step 2: Group by city"
   ]
  },
  {
   "cell_type": "code",
   "execution_count": null,
   "id": "c2b937aa-83ee-4fb2-8400-a1319df0c15b",
   "metadata": {},
   "outputs": [],
   "source": [
    "cities_sales = full_data.groupby( cities )['Total Price'].sum().reset_index(name='Sales')        \n",
    "cities_sales.rename(columns={'Purchase Address': 'City'}, inplace=True)"
   ]
  },
  {
   "cell_type": "markdown",
   "id": "1134a728-a379-4cc3-8514-7bb1c588de58",
   "metadata": {},
   "source": [
    "#### Step 3: Show results"
   ]
  },
  {
   "cell_type": "code",
   "execution_count": null,
   "id": "44e1cd34-694f-4db5-be05-83e11479764a",
   "metadata": {},
   "outputs": [],
   "source": [
    "plt.bar(cities_sales['City'], cities_sales['Sales'], width=0.7)\n",
    "plt.xticks(cities_sales['City'], rotation='vertical')\n",
    "plt.title('Sales of each city')\n",
    "plt.xlabel('Citites')\n",
    "plt.ylabel('Sales in DH')\n",
    "\n",
    "plt.gca().get_yaxis().set_major_formatter(plt.FuncFormatter(lambda x, _: f'{int(x):,}'))\n",
    "plt.show()"
   ]
  },
  {
   "cell_type": "markdown",
   "id": "7c085c60-92d4-44f4-b97d-532ec0c7cef0",
   "metadata": {},
   "source": [
    "### Task 3: The Best Time to Display Advertisements for Maximum Probability of Customer Purchase"
   ]
  },
  {
   "cell_type": "markdown",
   "id": "d32cdb02-7408-417c-b3c8-64226d83c6e4",
   "metadata": {},
   "source": [
    "#### Step 1: Group by hour"
   ]
  },
  {
   "cell_type": "code",
   "execution_count": null,
   "id": "5829e9d7-fcb0-46f3-8a8d-032cbdbbc786",
   "metadata": {},
   "outputs": [],
   "source": [
    "hours_orders = full_data.groupby(full_data['Order Date'].dt.hour)['Order Date'].count().reset_index(name='Count')\n",
    "hours_orders.rename(columns={'Order Date': 'Hour'}, inplace=True)"
   ]
  },
  {
   "cell_type": "markdown",
   "id": "286b6278-cda0-4b8f-a417-6b9ab0656769",
   "metadata": {},
   "source": [
    "#### Step 2: Show results"
   ]
  },
  {
   "cell_type": "code",
   "execution_count": null,
   "id": "ac1a8122-b103-45ae-9025-e67df01e1238",
   "metadata": {},
   "outputs": [],
   "source": [
    "plt.plot(hours_orders['Hour'], hours_orders['Count'])\n",
    "plt.xticks(hours_orders['Hour'], size=8.5)\n",
    "plt.title('Sales of each hour')\n",
    "plt.xlabel('Hours')\n",
    "plt.ylabel('Number of Orders')\n",
    "\n",
    "plt.grid()\n",
    "plt.show()"
   ]
  },
  {
   "cell_type": "markdown",
   "id": "7003e42b-837d-4b40-880b-0af0a9194b2e",
   "metadata": {},
   "source": [
    "### Task 4: Identify the Products Most Frequently Sold Together"
   ]
  },
  {
   "cell_type": "markdown",
   "id": "8c583917-55a9-4c4c-9f02-fdaf0434612d",
   "metadata": {},
   "source": [
    "#### Step 1: Group by orders and merge products to products column"
   ]
  },
  {
   "cell_type": "code",
   "execution_count": null,
   "id": "521a623e-fc0a-488c-839b-5e25c75087a6",
   "metadata": {},
   "outputs": [],
   "source": [
    "df = full_data[full_data['Order ID'].duplicated(keep=False)]\n",
    "\n",
    "df = df.groupby('Order ID')['Product'].agg(lambda x: ','.join(x)).reset_index(name='Products')\n"
   ]
  },
  {
   "cell_type": "markdown",
   "id": "100c800b-e988-44b3-b185-7d04824e8c17",
   "metadata": {},
   "source": [
    "#### Step 2: Count most sold products together"
   ]
  },
  {
   "cell_type": "code",
   "execution_count": null,
   "id": "03e1c791-2b5e-4c96-b795-40b0f62d3702",
   "metadata": {},
   "outputs": [],
   "source": [
    "from itertools import combinations\n",
    "from collections import Counter\n",
    "\n",
    "count = Counter()\n",
    "\n",
    "for products in df['Products']:\n",
    "    products_list = products.split(',')\n",
    "    count.update(Counter(combinations(products_list, 2)))"
   ]
  },
  {
   "cell_type": "markdown",
   "id": "fe830e48-610f-4443-8e82-6666ed6b9284",
   "metadata": {},
   "source": [
    "#### Step 3: Extract the products data"
   ]
  },
  {
   "cell_type": "code",
   "execution_count": null,
   "id": "4261b69d-936c-4e2a-a147-997c1b5793fd",
   "metadata": {},
   "outputs": [],
   "source": [
    "products = []\n",
    "products_count= []\n",
    "\n",
    "top5 = count.most_common(5)\n",
    "for i in range(0, 5):\n",
    "    productCombo = top5[i][0][0] + ' / ' +  top5[i][0][1]\n",
    "    products.append(productCombo)\n",
    "    products_count.append(top5[i][1])\n"
   ]
  },
  {
   "cell_type": "markdown",
   "id": "2c927033-8f02-46f0-8a5e-6b5996560cfb",
   "metadata": {},
   "source": [
    "#### Step 4: Show results"
   ]
  },
  {
   "cell_type": "code",
   "execution_count": null,
   "id": "bb58f8b0-baa6-46a1-b50e-70b8d60b7987",
   "metadata": {},
   "outputs": [],
   "source": [
    "plt.bar(products, products_count, width=0.6)\n",
    "plt.xticks(products, rotation='vertical')\n",
    "plt.title('The most sold products ( together )')\n",
    "plt.xlabel('Products')\n",
    "plt.ylabel('Number of Orders')\n",
    "\n",
    "plt.show()"
   ]
  },
  {
   "cell_type": "markdown",
   "id": "98523db2-fa4a-4234-ab97-9dfd22991413",
   "metadata": {},
   "source": [
    "### Task 5: The top products based on sales"
   ]
  },
  {
   "cell_type": "markdown",
   "id": "42e2866c-4457-4635-83ed-4c73523970dc",
   "metadata": {},
   "source": [
    "#### Step 1: Group products by product name"
   ]
  },
  {
   "cell_type": "code",
   "execution_count": null,
   "id": "205da2e4-28fa-45ba-bef9-302370fabb06",
   "metadata": {},
   "outputs": [],
   "source": [
    "products_sales = full_data.groupby('Product')['Total Price'].sum().reset_index(name='Sales')"
   ]
  },
  {
   "cell_type": "markdown",
   "id": "e3df2c93-a729-44b4-a549-a89fb89c81f0",
   "metadata": {},
   "source": [
    "#### Step 2: Show results"
   ]
  },
  {
   "cell_type": "code",
   "execution_count": null,
   "id": "19eeedc6-ecb9-4969-89c6-3660b802235c",
   "metadata": {},
   "outputs": [],
   "source": [
    "plt.bar(products_sales['Product'], products_sales['Sales'])\n",
    "plt.xticks(products_sales['Product'], rotation='vertical')\n",
    "plt.title('The top products ( sales )')\n",
    "plt.xlabel('Products')\n",
    "plt.ylabel('Sales')\n",
    "\n",
    "plt.gca().get_yaxis().set_major_formatter(plt.FuncFormatter(lambda x, _: f'{int(x):,}'))\n",
    "plt.show()"
   ]
  },
  {
   "cell_type": "markdown",
   "id": "11bcec66-b988-4239-80a4-810c047e1d41",
   "metadata": {},
   "source": [
    "### Task 6: The most selling products and their relation with the price"
   ]
  },
  {
   "cell_type": "markdown",
   "id": "6a80d302-7a5f-49bd-b27e-3ba63c6d8549",
   "metadata": {},
   "source": [
    "#### Step 1: Group products by product name"
   ]
  },
  {
   "cell_type": "code",
   "execution_count": null,
   "id": "9ae1bacf-d709-4555-94d9-2a2f7745051c",
   "metadata": {},
   "outputs": [],
   "source": [
    "products_quantity = full_data.groupby('Product')['Quantity Ordered'].sum().reset_index()"
   ]
  },
  {
   "cell_type": "markdown",
   "id": "d9fe1da2-8d9a-45fb-8210-41f2cccafc37",
   "metadata": {},
   "source": [
    "#### Step 2: Add the mean price column"
   ]
  },
  {
   "cell_type": "code",
   "execution_count": null,
   "id": "4c6027d8-296d-4606-be0a-c193fcc09cb0",
   "metadata": {},
   "outputs": [],
   "source": [
    "products_quantity[\"Price\"] = full_data.groupby('Product')['Price Each'].mean().reset_index()['Price Each']"
   ]
  },
  {
   "cell_type": "markdown",
   "id": "4466c97f-eb01-430e-befb-aaf80148a822",
   "metadata": {},
   "source": [
    "#### Step 3: Show results"
   ]
  },
  {
   "cell_type": "code",
   "execution_count": null,
   "id": "a3e88568-244a-4e65-ab82-78034a939dc0",
   "metadata": {},
   "outputs": [],
   "source": [
    "fig, ax1 = plt.subplots()\n",
    "\n",
    "ax2 = ax1.twinx()\n",
    "\n",
    "ax1.bar(products_quantity['Product'], products_quantity['Quantity Ordered'], color='g')\n",
    "ax2.plot(products_quantity['Product'], products_quantity['Price'], 'b-')\n",
    "\n",
    "ax1.set_xticks(products_quantity['Product'])\n",
    "ax1.set_xticklabels(products_quantity['Product'], rotation='vertical', size=8 )\n",
    "\n",
    "plt.title('The most selling products')\n",
    "\n",
    "ax1.set_xlabel('Product Name')\n",
    "ax1.set_ylabel('Quantity Ordered', color='g')\n",
    "ax2.set_ylabel('Price', color='b')\n",
    "\n",
    "plt.show()"
   ]
  },
  {
   "cell_type": "markdown",
   "id": "37599c92-149d-4ed5-962e-6a963012218b",
   "metadata": {},
   "source": [
    "### End."
   ]
  },
  {
   "cell_type": "code",
   "execution_count": null,
   "id": "c58dd22e-8881-44d7-88b3-1aa3c55cae5d",
   "metadata": {},
   "outputs": [],
   "source": []
  }
 ],
 "metadata": {
  "kernelspec": {
   "display_name": "Python 3 (ipykernel)",
   "language": "python",
   "name": "python3"
  },
  "language_info": {
   "codemirror_mode": {
    "name": "ipython",
    "version": 3
   },
   "file_extension": ".py",
   "mimetype": "text/x-python",
   "name": "python",
   "nbconvert_exporter": "python",
   "pygments_lexer": "ipython3",
   "version": "3.12.5"
  }
 },
 "nbformat": 4,
 "nbformat_minor": 5
}
